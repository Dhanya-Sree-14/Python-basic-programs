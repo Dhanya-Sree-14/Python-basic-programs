{
 "cells": [
  {
   "cell_type": "code",
   "execution_count": 2,
   "metadata": {},
   "outputs": [
    {
     "name": "stdout",
     "output_type": "stream",
     "text": [
      "\n",
      "Enter value of side1: 7\n",
      "\n",
      "Enter value of side2: 7\n",
      "\n",
      "Enter value of side3: 12\n",
      "\n",
      "Isosceles triangle\n"
     ]
    }
   ],
   "source": [
    "#program to check whether it's a triangle or not and what type of triangle it is\n",
    "\n",
    "a = int(input(\"\\nEnter value of side1: \"))\n",
    "b = int(input(\"\\nEnter value of side2: \"))\n",
    "c = int(input(\"\\nEnter value of side3: \"))\n",
    "\n",
    "if (a+b > c) or (b+c > a) or (a+c > b):\n",
    "    \n",
    "        \n",
    "    if a==b==c:\n",
    "        print(\"\\nEquilateral triangle\")\n",
    "            \n",
    "    elif a==b or b==c or c==a:\n",
    "        print(\"\\nIsosceles triangle\")\n",
    "            \n",
    "    else:\n",
    "        print(\"\\nScalene triangle\")\n",
    "            \n",
    "            \n",
    "else:\n",
    "    print(\"Does not form a triangle\")"
   ]
  },
  {
   "cell_type": "code",
   "execution_count": null,
   "metadata": {},
   "outputs": [],
   "source": []
  }
 ],
 "metadata": {
  "kernelspec": {
   "display_name": "Python 3",
   "language": "python",
   "name": "python3"
  },
  "language_info": {
   "codemirror_mode": {
    "name": "ipython",
    "version": 3
   },
   "file_extension": ".py",
   "mimetype": "text/x-python",
   "name": "python",
   "nbconvert_exporter": "python",
   "pygments_lexer": "ipython3",
   "version": "3.8.5"
  }
 },
 "nbformat": 4,
 "nbformat_minor": 4
}
